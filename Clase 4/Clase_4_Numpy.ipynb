{
  "cells": [
    {
      "cell_type": "markdown",
      "metadata": {
        "id": "_beYqJ2NlOEJ"
      },
      "source": [
        "# Introducción a NumPy"
      ]
    },
    {
      "cell_type": "code",
      "source": [
        "from google.colab import drive\n",
        "drive.mount('/content/drive')"
      ],
      "metadata": {
        "id": "S6-HxJS_mF84",
        "colab": {
          "base_uri": "https://localhost:8080/"
        },
        "outputId": "6d49bcbb-ca65-42e1-a15f-9770e623b7ba"
      },
      "execution_count": null,
      "outputs": [
        {
          "output_type": "stream",
          "name": "stdout",
          "text": [
            "Mounted at /content/drive\n"
          ]
        }
      ]
    },
    {
      "cell_type": "markdown",
      "metadata": {
        "id": "bGl7McR6lOEK"
      },
      "source": [
        "[Numpy](https://numpy.org) es una librería fundamental para la computación científica con Python.\n",
        "* Proporciona arrays N-dimensionales\n",
        "* Implementa funciones matemáticas sofisticadas\n",
        "* Proporciona herramientas para integrar C/C++ y Fortran\n",
        "* Proporciona mecanismos para facilitar la realización de tareas relacionadas con álgebra lineal o números aleatorios"
      ]
    },
    {
      "cell_type": "markdown",
      "metadata": {
        "id": "yifpoigplOEK"
      },
      "source": [
        "## Imports"
      ]
    },
    {
      "cell_type": "code",
      "execution_count": null,
      "metadata": {
        "id": "jT0zCWULlOEK"
      },
      "outputs": [],
      "source": [
        "import numpy as np"
      ]
    },
    {
      "cell_type": "markdown",
      "metadata": {
        "id": "SIMkytotlOEL"
      },
      "source": [
        "## Arrays"
      ]
    },
    {
      "cell_type": "markdown",
      "metadata": {
        "id": "bBZQ_PhKlOEL"
      },
      "source": [
        "Un **array** es una estructura de datos que consiste en una colección de elementos (valores o variables), cada uno identificado por al menos un índice o clave. Un array se almacena de modo que la posición de cada elemento se pueda calcular a partir de su tupla de índice mediante una fórmula matemática. El tipo más simple de array es un array lineal, también llamado array unidimensional."
      ]
    },
    {
      "cell_type": "code",
      "source": [
        "lista1 = [[1,2,3,5,8,2], [1,2,56,3,67,3]]\n",
        "\n",
        "lista1[1:2]"
      ],
      "metadata": {
        "colab": {
          "base_uri": "https://localhost:8080/"
        },
        "id": "i6j8qCXORKDb",
        "outputId": "552497cc-3d04-49f2-ae91-333dd360fde7"
      },
      "execution_count": null,
      "outputs": [
        {
          "output_type": "execute_result",
          "data": {
            "text/plain": [
              "[[1, 2, 56, 3, 67, 3]]"
            ]
          },
          "metadata": {},
          "execution_count": 3
        }
      ]
    },
    {
      "cell_type": "markdown",
      "metadata": {
        "id": "7XYL2xA4lOEM"
      },
      "source": [
        "En numpy:\n",
        "* Cada dimensión se denomina **axis**\n",
        "* El número de dimensiones se denomina **rank**\n",
        "* La lista de dimensiones con su correspondiente longitud se denomina **shape**\n",
        "* El número total de elementos (multiplicación de la longitud de las dimensiones) se denomina **size**"
      ]
    },
    {
      "cell_type": "code",
      "execution_count": null,
      "metadata": {
        "id": "AB29DVhFlOEM"
      },
      "outputs": [],
      "source": [
        "# Array cuyos valores son todos 0\n",
        "array01 = np.zeros((2,4))"
      ]
    },
    {
      "cell_type": "code",
      "execution_count": null,
      "metadata": {
        "id": "hdGWe0pylOEN",
        "colab": {
          "base_uri": "https://localhost:8080/"
        },
        "outputId": "a3636514-065d-4e1a-d599-e288ed8fce6e"
      },
      "outputs": [
        {
          "output_type": "execute_result",
          "data": {
            "text/plain": [
              "array([[0., 0., 0., 0.],\n",
              "       [0., 0., 0., 0.]])"
            ]
          },
          "metadata": {},
          "execution_count": 5
        }
      ],
      "source": [
        "array01"
      ]
    },
    {
      "cell_type": "markdown",
      "metadata": {
        "id": "QC69C0mllOEO"
      },
      "source": [
        "_**a**_ es un array:\n",
        "* Con dos **axis**, el primero de longitud 2 y el segundo de longitud 4\n",
        "* Con un **rank** igual a 2\n",
        "* Con un **shape** igual (2, 4)\n",
        "* Con un **size** igual a 8"
      ]
    },
    {
      "cell_type": "code",
      "execution_count": null,
      "metadata": {
        "id": "HXRRuZoslOEO",
        "colab": {
          "base_uri": "https://localhost:8080/"
        },
        "outputId": "81b1a3ba-35e4-4b88-e03a-fe3ef0474e7a"
      },
      "outputs": [
        {
          "output_type": "execute_result",
          "data": {
            "text/plain": [
              "(2, 4)"
            ]
          },
          "metadata": {},
          "execution_count": 7
        }
      ],
      "source": [
        "array01.shape"
      ]
    },
    {
      "cell_type": "code",
      "execution_count": null,
      "metadata": {
        "id": "JPCN-KLalOEO",
        "colab": {
          "base_uri": "https://localhost:8080/"
        },
        "outputId": "2f67b332-95dc-485d-edca-e6d35a359468"
      },
      "outputs": [
        {
          "output_type": "execute_result",
          "data": {
            "text/plain": [
              "2"
            ]
          },
          "metadata": {},
          "execution_count": 8
        }
      ],
      "source": [
        "array01.ndim"
      ]
    },
    {
      "cell_type": "code",
      "execution_count": null,
      "metadata": {
        "id": "gYJfFNyilOEP",
        "colab": {
          "base_uri": "https://localhost:8080/"
        },
        "outputId": "1d6a19c4-c4de-4ae4-a4b0-562b69664b8f"
      },
      "outputs": [
        {
          "output_type": "execute_result",
          "data": {
            "text/plain": [
              "8"
            ]
          },
          "metadata": {},
          "execution_count": 9
        }
      ],
      "source": [
        "array01.size"
      ]
    },
    {
      "cell_type": "markdown",
      "metadata": {
        "id": "9JcvAWuplOEP"
      },
      "source": [
        "## Creación de Arrays"
      ]
    },
    {
      "cell_type": "code",
      "execution_count": null,
      "metadata": {
        "id": "si9RRAuHlOEP",
        "colab": {
          "base_uri": "https://localhost:8080/"
        },
        "outputId": "55727daa-b4a2-4904-a732-d0709e31314b"
      },
      "outputs": [
        {
          "output_type": "execute_result",
          "data": {
            "text/plain": [
              "array([[[0., 0., 0., 0.],\n",
              "        [0., 0., 0., 0.],\n",
              "        [0., 0., 0., 0.]],\n",
              "\n",
              "       [[0., 0., 0., 0.],\n",
              "        [0., 0., 0., 0.],\n",
              "        [0., 0., 0., 0.]]])"
            ]
          },
          "metadata": {},
          "execution_count": 10
        }
      ],
      "source": [
        "# Array cuyos valores son todos 0\n",
        "np.zeros((2,3,4))"
      ]
    },
    {
      "cell_type": "code",
      "execution_count": null,
      "metadata": {
        "id": "sfFGXfO5lOEP",
        "colab": {
          "base_uri": "https://localhost:8080/"
        },
        "outputId": "6f361622-2e3a-453c-f61a-a3bafcc66484"
      },
      "outputs": [
        {
          "output_type": "execute_result",
          "data": {
            "text/plain": [
              "array([[[1., 1., 1., 1.],\n",
              "        [1., 1., 1., 1.],\n",
              "        [1., 1., 1., 1.]],\n",
              "\n",
              "       [[1., 1., 1., 1.],\n",
              "        [1., 1., 1., 1.],\n",
              "        [1., 1., 1., 1.]]])"
            ]
          },
          "metadata": {},
          "execution_count": 10
        }
      ],
      "source": [
        "# Array cuyos valores son todos 1\n",
        "np.ones((2,3,4))"
      ]
    },
    {
      "cell_type": "code",
      "execution_count": null,
      "metadata": {
        "id": "vJKj3DuflOEQ",
        "colab": {
          "base_uri": "https://localhost:8080/"
        },
        "outputId": "1c2c1c23-aea6-4b56-dbfd-778b3bcd809b"
      },
      "outputs": [
        {
          "output_type": "execute_result",
          "data": {
            "text/plain": [
              "array([[[3, 3, 3, 3],\n",
              "        [3, 3, 3, 3],\n",
              "        [3, 3, 3, 3]],\n",
              "\n",
              "       [[3, 3, 3, 3],\n",
              "        [3, 3, 3, 3],\n",
              "        [3, 3, 3, 3]]])"
            ]
          },
          "metadata": {},
          "execution_count": 12
        }
      ],
      "source": [
        "# Array cuyos valores son todos el valor indicado como segundo parámetro de la función\n",
        "np.full((2,3,4),3)"
      ]
    },
    {
      "cell_type": "code",
      "execution_count": null,
      "metadata": {
        "id": "7OQCFbHllOEQ",
        "colab": {
          "base_uri": "https://localhost:8080/"
        },
        "outputId": "b93bd749-0eab-4d0e-b3c5-d30400f2536c"
      },
      "outputs": [
        {
          "output_type": "execute_result",
          "data": {
            "text/plain": [
              "array([[[2.16976478e-316, 0.00000000e+000, 6.94717276e-310,\n",
              "         6.94717277e-310, 6.94711103e-310, 6.94717276e-310,\n",
              "         6.94717276e-310, 6.94717277e-310],\n",
              "        [6.94711103e-310, 6.94717276e-310, 6.94717276e-310,\n",
              "         6.94717277e-310, 6.94711103e-310, 6.94717276e-310,\n",
              "         6.94717276e-310, 6.94717276e-310],\n",
              "        [6.94717276e-310, 6.94717277e-310, 6.94711103e-310,\n",
              "         6.94717276e-310, 6.94717276e-310, 6.94717276e-310,\n",
              "         6.94717276e-310, 6.94717277e-310]],\n",
              "\n",
              "       [[6.94711103e-310, 6.94717276e-310, 6.94717276e-310,\n",
              "         6.94717276e-310, 6.94717276e-310, 0.00000000e+000,\n",
              "         0.00000000e+000, 0.00000000e+000],\n",
              "        [0.00000000e+000, 0.00000000e+000, 0.00000000e+000,\n",
              "         0.00000000e+000, 0.00000000e+000, 0.00000000e+000,\n",
              "         0.00000000e+000, 4.00193173e-322],\n",
              "        [2.26350128e-316, 6.94717313e-310, 0.00000000e+000,\n",
              "         0.00000000e+000, 0.00000000e+000, 0.00000000e+000,\n",
              "         0.00000000e+000, 0.00000000e+000]]])"
            ]
          },
          "metadata": {},
          "execution_count": 18
        }
      ],
      "source": [
        "# El resultado de np.empty no es predecible\n",
        "# Inicializa los valores del array con lo que haya en memoria en ese momento\n",
        "np.empty((2,3,8))"
      ]
    },
    {
      "cell_type": "code",
      "execution_count": null,
      "metadata": {
        "id": "ucmNwCn4lOEQ"
      },
      "outputs": [],
      "source": [
        "# Inicializacion del array utilizando un array de Python\n",
        "array02=np.array([[1,2,3],[4,5,6]])"
      ]
    },
    {
      "cell_type": "code",
      "execution_count": null,
      "metadata": {
        "id": "89y_s0J4lOER",
        "colab": {
          "base_uri": "https://localhost:8080/"
        },
        "outputId": "852fbdf6-eb62-4bff-d0f4-b0f7d192a372"
      },
      "outputs": [
        {
          "output_type": "execute_result",
          "data": {
            "text/plain": [
              "(array([[1, 2, 3],\n",
              "        [4, 5, 6]]),\n",
              " (2, 3))"
            ]
          },
          "metadata": {},
          "execution_count": 21
        }
      ],
      "source": [
        "array02, array02.shape"
      ]
    },
    {
      "cell_type": "code",
      "execution_count": null,
      "metadata": {
        "id": "hhvRl1CWlOER",
        "colab": {
          "base_uri": "https://localhost:8080/"
        },
        "outputId": "9441681b-391a-4295-b4ee-1f15b42e6a6a"
      },
      "outputs": [
        {
          "output_type": "stream",
          "name": "stdout",
          "text": [
            "[0.   0.25 0.5  0.75 1.   1.25 1.5  1.75 2.   2.25 2.5  2.75 3.   3.25\n",
            " 3.5  3.75 4.   4.25 4.5  4.75 5.   5.25 5.5  5.75 6.  ]\n"
          ]
        }
      ],
      "source": [
        "# Creación del array utilizando una función basada en rangos\n",
        "# (minimo, maximo, número elementos del array)\n",
        "print(np.linspace(0,6,25))"
      ]
    },
    {
      "cell_type": "code",
      "execution_count": null,
      "metadata": {
        "id": "ELdQTHFQlOER",
        "colab": {
          "base_uri": "https://localhost:8080/"
        },
        "outputId": "1e627a05-4f4f-446a-f1e7-aa4bf3238a1e"
      },
      "outputs": [
        {
          "output_type": "execute_result",
          "data": {
            "text/plain": [
              "array([[[0.71535309, 0.45780515, 0.82734785, 0.71330975],\n",
              "        [0.72011398, 0.06650019, 0.39966897, 0.90011637],\n",
              "        [0.26389734, 0.6943391 , 0.64406972, 0.31858416]],\n",
              "\n",
              "       [[0.06385119, 0.28214575, 0.57979668, 0.35783246],\n",
              "        [0.51005709, 0.76521972, 0.85996486, 0.04971283],\n",
              "        [0.42933616, 0.42239233, 0.04161177, 0.54495607]]])"
            ]
          },
          "metadata": {},
          "execution_count": 4
        }
      ],
      "source": [
        "# Inicialización del array con valores aleatorios\n",
        "np.random.rand(2,3,4)"
      ]
    },
    {
      "cell_type": "code",
      "execution_count": null,
      "metadata": {
        "id": "wED5FRxslOER",
        "colab": {
          "base_uri": "https://localhost:8080/"
        },
        "outputId": "d51db2c7-c87f-4150-d877-233dd5af4031"
      },
      "outputs": [
        {
          "output_type": "execute_result",
          "data": {
            "text/plain": [
              "array([[[-1.9590633 ,  1.00920148, -0.33268179,  1.31034336],\n",
              "        [-1.09427915, -0.52034841, -1.40825683, -0.86975698],\n",
              "        [-0.58521985, -0.11620848,  0.36309013,  1.17409667]],\n",
              "\n",
              "       [[-1.22643944,  0.20438924, -0.87772686,  0.50932507],\n",
              "        [ 0.09089234,  0.88033209, -0.7469479 ,  0.75845559],\n",
              "        [ 0.33224383,  1.44923532,  1.52482301, -0.42153494]]])"
            ]
          },
          "metadata": {},
          "execution_count": 8
        }
      ],
      "source": [
        "# Inicialización del array con valores aleatorios conforme a una distribución normal\n",
        "array1 = np.random.randn(2, 3, 4)\n",
        "\n",
        "array1"
      ]
    },
    {
      "cell_type": "markdown",
      "source": [
        "LIBRERIA MATPLOTLIB"
      ],
      "metadata": {
        "id": "5nFor0q2GMID"
      }
    },
    {
      "cell_type": "code",
      "execution_count": null,
      "metadata": {
        "id": "gTOfkh63lOES"
      },
      "outputs": [],
      "source": [
        "%matplotlib inline\n",
        "import matplotlib.pyplot as plt"
      ]
    },
    {
      "cell_type": "code",
      "source": [
        "array2 = np.random.randn(100000)\n",
        "\n",
        "\n",
        "plt.hist(array2, bins=200)\n",
        "plt.show"
      ],
      "metadata": {
        "colab": {
          "base_uri": "https://localhost:8080/",
          "height": 448
        },
        "id": "3cclQnt2G3vS",
        "outputId": "62e07c94-2bd6-404e-d3e7-085d4757e9db"
      },
      "execution_count": null,
      "outputs": [
        {
          "output_type": "execute_result",
          "data": {
            "text/plain": [
              "<function matplotlib.pyplot.show(close=None, block=None)>"
            ]
          },
          "metadata": {},
          "execution_count": 13
        },
        {
          "output_type": "display_data",
          "data": {
            "text/plain": [
              "<Figure size 640x480 with 1 Axes>"
            ],
            "image/png": "[encoded data removed]"
          },
          "metadata": {}
        }
      ]
    },
    {
      "cell_type": "code",
      "source": [
        "array2"
      ],
      "metadata": {
        "colab": {
          "base_uri": "https://localhost:8080/"
        },
        "id": "VwFoUCK_HiVm",
        "outputId": "1c20549b-0031-492e-f2da-ce1fa3aaa2fb"
      },
      "execution_count": null,
      "outputs": [
        {
          "output_type": "execute_result",
          "data": {
            "text/plain": [
              "array([-1.24303331, -0.59497565,  0.68292214, ..., -0.77257731,\n",
              "        2.4102479 ,  0.58789666])"
            ]
          },
          "metadata": {},
          "execution_count": 14
        }
      ]
    },
    {
      "cell_type": "code",
      "source": [
        "#Inicializacion de un array utilizando una funcion\n",
        "\n",
        "def func(x, y):\n",
        "  return x + 2 * y\n",
        "\n",
        "array2 =np.fromfunction(func, (3,5))\n",
        "\n",
        "\n",
        "array2"
      ],
      "metadata": {
        "colab": {
          "base_uri": "https://localhost:8080/"
        },
        "id": "gPnE94n_HjWj",
        "outputId": "2ce509da-e813-4238-81d7-56ed75eb8ac1"
      },
      "execution_count": null,
      "outputs": [
        {
          "output_type": "execute_result",
          "data": {
            "text/plain": [
              "array([[ 0.,  2.,  4.,  6.,  8.],\n",
              "       [ 1.,  3.,  5.,  7.,  9.],\n",
              "       [ 2.,  4.,  6.,  8., 10.]])"
            ]
          },
          "metadata": {},
          "execution_count": 19
        }
      ]
    },
    {
      "cell_type": "markdown",
      "metadata": {
        "id": "P1fo1BGElOES"
      },
      "source": [
        "## Acceso a los elementos de un array"
      ]
    },
    {
      "cell_type": "markdown",
      "metadata": {
        "id": "qBcVa5BFlOET"
      },
      "source": [
        "### Array unidimensional"
      ]
    },
    {
      "cell_type": "code",
      "execution_count": null,
      "metadata": {
        "id": "G3cPMNNtlOET",
        "colab": {
          "base_uri": "https://localhost:8080/"
        },
        "outputId": "80f9c21f-989f-4c48-e176-48cafc28158d"
      },
      "outputs": [
        {
          "output_type": "execute_result",
          "data": {
            "text/plain": [
              "(9,)"
            ]
          },
          "metadata": {},
          "execution_count": 20
        }
      ],
      "source": [
        "# Creación de un Array unidimensional\n",
        "array_uni=np.array([1,2,3,4,5,6,7,8,9])\n",
        "array_uni\n",
        "\n",
        "array_uni.shape"
      ]
    },
    {
      "cell_type": "code",
      "execution_count": null,
      "metadata": {
        "id": "X39It7shlOET",
        "colab": {
          "base_uri": "https://localhost:8080/"
        },
        "outputId": "3e26e3ea-e5cc-493a-992e-2a9cce10000e"
      },
      "outputs": [
        {
          "output_type": "execute_result",
          "data": {
            "text/plain": [
              "6"
            ]
          },
          "metadata": {},
          "execution_count": 21
        }
      ],
      "source": [
        "# Accediendo al quinto elemento del Array\n",
        "array_uni[5]"
      ]
    },
    {
      "cell_type": "code",
      "execution_count": null,
      "metadata": {
        "id": "TlZpGmIJlOET",
        "colab": {
          "base_uri": "https://localhost:8080/"
        },
        "outputId": "8617d752-e8ee-4bee-ca32-f2b5468b3300"
      },
      "outputs": [
        {
          "output_type": "execute_result",
          "data": {
            "text/plain": [
              "array([3, 4])"
            ]
          },
          "metadata": {},
          "execution_count": 22
        }
      ],
      "source": [
        "# Accediendo al tercer y cuarto elemento del Array\n",
        "array_uni[2:4]"
      ]
    },
    {
      "cell_type": "code",
      "execution_count": null,
      "metadata": {
        "id": "Mcv06mNjlOET",
        "outputId": "dc2e1be6-b7e8-4ff9-c12c-7ee1087f7c7c",
        "colab": {
          "base_uri": "https://localhost:8080/"
        }
      },
      "outputs": [
        {
          "output_type": "execute_result",
          "data": {
            "text/plain": [
              "array([1, 4, 7])"
            ]
          },
          "metadata": {},
          "execution_count": 26
        }
      ],
      "source": [
        "# Accediendo a los elementos 0, 3 y 5 del Array\n",
        "\n",
        "array_uni[0::3]"
      ]
    },
    {
      "cell_type": "markdown",
      "metadata": {
        "id": "1kVwwlHBlOEU"
      },
      "source": [
        "### Array multidimensional"
      ]
    },
    {
      "cell_type": "code",
      "execution_count": null,
      "metadata": {
        "id": "2zrjJ9CglOEU",
        "colab": {
          "base_uri": "https://localhost:8080/"
        },
        "outputId": "2ee1d82f-0eba-4c49-b058-1afce2d021d5"
      },
      "outputs": [
        {
          "output_type": "stream",
          "name": "stdout",
          "text": [
            "Shape: (2, 4)\n",
            "[[1 2 3 4]\n",
            " [5 6 7 8]]\n"
          ]
        }
      ],
      "source": [
        "# Creación de un Array multidimensional\n",
        "\n",
        "array_multi =np.array([[1, 2, 3, 4], [5, 6, 7, 8]])\n",
        "print(\"Shape:\", array_multi.shape)\n",
        "print(array_multi)"
      ]
    },
    {
      "cell_type": "code",
      "execution_count": null,
      "metadata": {
        "id": "ZSAH3RfHlOEU",
        "colab": {
          "base_uri": "https://localhost:8080/"
        },
        "outputId": "966aeb06-40cd-4720-c3df-b9fbfdbd9cee"
      },
      "outputs": [
        {
          "output_type": "execute_result",
          "data": {
            "text/plain": [
              "4"
            ]
          },
          "metadata": {},
          "execution_count": 30
        }
      ],
      "source": [
        "# Accediendo al cuarto elemento del Array\n",
        "\n",
        "array_multi[0, 3]"
      ]
    },
    {
      "cell_type": "code",
      "execution_count": null,
      "metadata": {
        "id": "gIpt0IJClOEU",
        "colab": {
          "base_uri": "https://localhost:8080/"
        },
        "outputId": "049ae791-08ca-4a34-d887-9402299da319"
      },
      "outputs": [
        {
          "output_type": "execute_result",
          "data": {
            "text/plain": [
              "7"
            ]
          },
          "metadata": {},
          "execution_count": 31
        }
      ],
      "source": [
        "# Accediendo a la segunda fila del Array\n",
        "array_multi[1, 2]"
      ]
    },
    {
      "cell_type": "code",
      "execution_count": null,
      "metadata": {
        "id": "-IvX5rdXlOEV",
        "colab": {
          "base_uri": "https://localhost:8080/"
        },
        "outputId": "48ff60e6-c4a2-411b-91c9-8bac74b295d9"
      },
      "outputs": [
        {
          "output_type": "execute_result",
          "data": {
            "text/plain": [
              "array([3, 7])"
            ]
          },
          "metadata": {},
          "execution_count": 32
        }
      ],
      "source": [
        "# Accediendo al tercer elemento de las dos primeras filas del Array\n",
        "array_multi[0:2, 2]"
      ]
    },
    {
      "cell_type": "markdown",
      "metadata": {
        "id": "9cwbwDIDlOEV"
      },
      "source": [
        "## Modificación de un Array"
      ]
    },
    {
      "cell_type": "code",
      "execution_count": null,
      "metadata": {
        "id": "eRoKTtyElOEV",
        "colab": {
          "base_uri": "https://localhost:8080/"
        },
        "outputId": "ff4053fe-a6be-4841-8150-5be63bfcf423"
      },
      "outputs": [
        {
          "output_type": "execute_result",
          "data": {
            "text/plain": [
              "array([ 0,  1,  2,  3,  4,  5,  6,  7,  8,  9, 10, 11, 12, 13, 14, 15, 16,\n",
              "       17, 18, 19, 20, 21, 22, 23, 24, 25, 26, 27])"
            ]
          },
          "metadata": {},
          "execution_count": 34
        }
      ],
      "source": [
        "# Creación de un Array unidimensional inicializado con el rango de elementos 0-27\n",
        "\n",
        "array1 = np.arange(28)\n",
        "\n",
        "array1"
      ]
    },
    {
      "cell_type": "code",
      "execution_count": null,
      "metadata": {
        "id": "k3ivm0S1lOEV",
        "colab": {
          "base_uri": "https://localhost:8080/"
        },
        "outputId": "e9231731-460a-4153-94ec-dd3dcd915abf"
      },
      "outputs": [
        {
          "output_type": "execute_result",
          "data": {
            "text/plain": [
              "array([[ 0,  1,  2,  3],\n",
              "       [ 4,  5,  6,  7],\n",
              "       [ 8,  9, 10, 11],\n",
              "       [12, 13, 14, 15],\n",
              "       [16, 17, 18, 19],\n",
              "       [20, 21, 22, 23],\n",
              "       [24, 25, 26, 27]])"
            ]
          },
          "metadata": {},
          "execution_count": 36
        }
      ],
      "source": [
        "# Cambiar las dimensiones del Array y sus longitudes\n",
        "\n",
        "array1.shape = (7, 4)\n",
        "\n",
        "array1"
      ]
    },
    {
      "cell_type": "code",
      "execution_count": null,
      "metadata": {
        "id": "80FFLM9HlOEW",
        "colab": {
          "base_uri": "https://localhost:8080/"
        },
        "outputId": "0c01b322-90cb-4417-e617-c99b90ed679f"
      },
      "outputs": [
        {
          "output_type": "execute_result",
          "data": {
            "text/plain": [
              "array([[ 0,  1,  2,  3,  4,  5,  6],\n",
              "       [ 7,  8,  9, 10, 11, 12, 13],\n",
              "       [14, 15, 16, 17, 18, 19, 20],\n",
              "       [21, 22, 23, 24, 25, 26, 27]])"
            ]
          },
          "metadata": {},
          "execution_count": 37
        }
      ],
      "source": [
        "# El ejemplo anterior devuelve un nuevo Array que apunta a los mismos datos.\n",
        "# Importante: Modificaciones en un Array, modificaran el otro Array\n",
        "\n",
        "array2 = array1.reshape(4,7)\n",
        "\n",
        "array2"
      ]
    },
    {
      "cell_type": "code",
      "execution_count": null,
      "metadata": {
        "id": "E5hz6blFlOEW",
        "colab": {
          "base_uri": "https://localhost:8080/"
        },
        "outputId": "644c4f75-e9d0-4d61-b8a2-0f5f4884481d"
      },
      "outputs": [
        {
          "output_type": "execute_result",
          "data": {
            "text/plain": [
              "array([[ 0,  1,  2, 20,  4,  5,  6],\n",
              "       [ 7,  8,  9, 10, 11, 12, 13],\n",
              "       [14, 15, 16, 20, 18, 19, 20],\n",
              "       [21, 22, 23, 24, 25, 26, 27]])"
            ]
          },
          "metadata": {},
          "execution_count": 39
        }
      ],
      "source": [
        "# Modificación del nuevo Array devuelto\n",
        "array2[2 , 3] = 20\n",
        "\n",
        "array2"
      ]
    },
    {
      "cell_type": "code",
      "execution_count": null,
      "metadata": {
        "id": "0Rt2V21ZlOEW",
        "colab": {
          "base_uri": "https://localhost:8080/"
        },
        "outputId": "91e1ef3e-ca9e-48c2-846a-a58bfdb55b1f"
      },
      "outputs": [
        {
          "output_type": "execute_result",
          "data": {
            "text/plain": [
              "array([ 0,  1,  2, 20,  4,  5,  6,  7,  8,  9, 10, 11, 12, 13, 14, 15, 16,\n",
              "       20, 18, 19, 20, 21, 22, 23, 24, 25, 26, 27])"
            ]
          },
          "metadata": {},
          "execution_count": 40
        }
      ],
      "source": [
        "# Desenvuelve el Array, devolviendo un nuevo Array de una sola dimension\n",
        "# Importante: El nuevo array apunta a los mismos datos\n",
        "\n",
        "array2.ravel()\n"
      ]
    },
    {
      "cell_type": "markdown",
      "metadata": {
        "id": "W_BrNpD1lOEW"
      },
      "source": [
        "## Operaciones aritméticas con Arrays"
      ]
    },
    {
      "cell_type": "code",
      "execution_count": null,
      "metadata": {
        "id": "JVLZBhWUlOEX",
        "colab": {
          "base_uri": "https://localhost:8080/"
        },
        "outputId": "631d6058-8a3e-4ae2-c498-67aaaa0fbd61"
      },
      "outputs": [
        {
          "output_type": "stream",
          "name": "stdout",
          "text": [
            "[ 2  4  6  8 10 12 14 16]\n",
            "[0 1 2 3 4 5 6 7]\n"
          ]
        }
      ],
      "source": [
        "# Creación de dos Arrays unidimensionales\n",
        "array1 = np.arange(2, 18, 2)\n",
        "array2 = np.arange(8)\n",
        "\n",
        "print(array1)\n",
        "print(array2)"
      ]
    },
    {
      "cell_type": "code",
      "execution_count": null,
      "metadata": {
        "id": "h0IfwgKJlOEX",
        "colab": {
          "base_uri": "https://localhost:8080/"
        },
        "outputId": "de77c08d-123d-4770-8b16-57e1128116b1"
      },
      "outputs": [
        {
          "output_type": "stream",
          "name": "stdout",
          "text": [
            "[ 2  5  8 11 14 17 20 23]\n"
          ]
        }
      ],
      "source": [
        "# Suma\n",
        "print (array1+ array2)"
      ]
    },
    {
      "cell_type": "code",
      "execution_count": null,
      "metadata": {
        "id": "bcVliLjIlOEX",
        "colab": {
          "base_uri": "https://localhost:8080/"
        },
        "outputId": "02cd42bc-7d22-48bf-93f0-0fcdb2d63eca"
      },
      "outputs": [
        {
          "output_type": "stream",
          "name": "stdout",
          "text": [
            "[2 3 4 5 6 7 8 9]\n"
          ]
        }
      ],
      "source": [
        "# Resta\n",
        "print(array1 - array2)"
      ]
    },
    {
      "cell_type": "code",
      "execution_count": null,
      "metadata": {
        "id": "WJDkvQiUlOEX",
        "colab": {
          "base_uri": "https://localhost:8080/"
        },
        "outputId": "229a8c8e-b77c-4900-a933-4c4391b6f0ad"
      },
      "outputs": [
        {
          "output_type": "stream",
          "name": "stdout",
          "text": [
            "[  0   4  12  24  40  60  84 112]\n"
          ]
        }
      ],
      "source": [
        "# Multiplicacion\n",
        "# Importante: No es una multiplicación de matrices\n",
        "print(array1 * array2)"
      ]
    },
    {
      "cell_type": "markdown",
      "metadata": {
        "id": "1mOe1le5lOEX"
      },
      "source": [
        "## Broadcasting"
      ]
    },
    {
      "cell_type": "markdown",
      "metadata": {
        "id": "qjtXWdfxlOEY"
      },
      "source": [
        "Si se aplican operaciones aritméticas sobre Arrays que no tienen la misma forma (shape) Numpy aplica un propiedad que se denomina Broadcasting."
      ]
    },
    {
      "cell_type": "code",
      "execution_count": null,
      "metadata": {
        "id": "KeikqC0vlOEY",
        "colab": {
          "base_uri": "https://localhost:8080/"
        },
        "outputId": "31fc12a5-ec99-441b-e5fd-cad288ad44fc"
      },
      "outputs": [
        {
          "output_type": "stream",
          "name": "stdout",
          "text": [
            "[0 1 2 3 4]\n",
            "[3]\n"
          ]
        }
      ],
      "source": [
        "# Creación de dos Arrays unidimensionales\n",
        "array1 = np.arange(5)\n",
        "array2 = np.array([3])\n",
        "\n",
        "print(array1)\n",
        "print(array2)"
      ]
    },
    {
      "cell_type": "code",
      "source": [],
      "metadata": {
        "id": "C4Hjr81KPvR1"
      },
      "execution_count": null,
      "outputs": []
    },
    {
      "cell_type": "code",
      "execution_count": null,
      "metadata": {
        "id": "7E0ATdS1lOEY",
        "colab": {
          "base_uri": "https://localhost:8080/"
        },
        "outputId": "cbe17389-33d7-4f4c-8328-91f42b803d1f"
      },
      "outputs": [
        {
          "output_type": "stream",
          "name": "stdout",
          "text": [
            "[3 4 5 6 7]\n"
          ]
        }
      ],
      "source": [
        "# Suma de ambos Arrays\n",
        "print(array1 + array2)"
      ]
    },
    {
      "cell_type": "code",
      "execution_count": null,
      "metadata": {
        "id": "NYl-fw5VlOEY",
        "colab": {
          "base_uri": "https://localhost:8080/"
        },
        "outputId": "6a04bfcd-c2bb-43ff-fb74-2503cce1e490"
      },
      "outputs": [
        {
          "output_type": "stream",
          "name": "stdout",
          "text": [
            "[[0 1 2]\n",
            " [3 4 5]]\n",
            "[ 6 10 14]\n"
          ]
        }
      ],
      "source": [
        "# Creación de dos Arrays multidimensional y unidimensional\n",
        "array1 = np.arange(6)\n",
        "array1.shape = (2, 3)\n",
        "array2 = np.arange(6, 18, 4)\n",
        "\n",
        "print(array1)\n",
        "print(array2)"
      ]
    },
    {
      "cell_type": "code",
      "execution_count": null,
      "metadata": {
        "id": "UnRCUcOnlOEY",
        "colab": {
          "base_uri": "https://localhost:8080/"
        },
        "outputId": "fc5bf211-e8c2-4e71-d2f9-49ebd6a89aa6"
      },
      "outputs": [
        {
          "output_type": "stream",
          "name": "stdout",
          "text": [
            "[[ 6 11 16]\n",
            " [ 9 14 19]]\n"
          ]
        }
      ],
      "source": [
        "# Suma de ambos Arrays\n",
        "print(array1 + array2)\n"
      ]
    },
    {
      "cell_type": "markdown",
      "metadata": {
        "id": "g20rb62xlOEZ"
      },
      "source": [
        "## Funciones estadísticas sobre Arrays"
      ]
    },
    {
      "cell_type": "code",
      "execution_count": null,
      "metadata": {
        "id": "M-afNYTwlOEZ",
        "colab": {
          "base_uri": "https://localhost:8080/"
        },
        "outputId": "1db41291-afcb-4aa6-9bb4-58c137af50eb"
      },
      "outputs": [
        {
          "output_type": "execute_result",
          "data": {
            "text/plain": [
              "array([ 1,  3,  5,  7,  9, 11, 13, 15, 17, 19])"
            ]
          },
          "metadata": {},
          "execution_count": 59
        }
      ],
      "source": [
        "# Creación de un Array unidimensional\n",
        "array1 = np.arange(1, 20, 2)\n",
        "\n",
        "array1"
      ]
    },
    {
      "cell_type": "code",
      "source": [],
      "metadata": {
        "id": "4l5OwiDkRP50"
      },
      "execution_count": null,
      "outputs": []
    },
    {
      "cell_type": "code",
      "execution_count": null,
      "metadata": {
        "id": "gnebtuTrlOEZ",
        "colab": {
          "base_uri": "https://localhost:8080/"
        },
        "outputId": "72944c5c-977e-4bef-faf7-0039916fa649"
      },
      "outputs": [
        {
          "output_type": "execute_result",
          "data": {
            "text/plain": [
              "10.0"
            ]
          },
          "metadata": {},
          "execution_count": 53
        }
      ],
      "source": [
        "# Media de los elementos del Array\n",
        "array1.mean()"
      ]
    },
    {
      "cell_type": "code",
      "execution_count": null,
      "metadata": {
        "id": "7nKmb4TklOEZ",
        "colab": {
          "base_uri": "https://localhost:8080/"
        },
        "outputId": "b3ea664b-e151-422e-8f33-11f0e45114f6"
      },
      "outputs": [
        {
          "output_type": "execute_result",
          "data": {
            "text/plain": [
              "100"
            ]
          },
          "metadata": {},
          "execution_count": 54
        }
      ],
      "source": [
        "# Suma de los elementos del Array\n",
        "array1.sum()"
      ]
    },
    {
      "cell_type": "markdown",
      "metadata": {
        "id": "CNmgqIQnlOEZ"
      },
      "source": [
        "Funciones universales eficientes proporcionadas por numpy: **ufunc**"
      ]
    },
    {
      "cell_type": "code",
      "execution_count": null,
      "metadata": {
        "id": "8Tq70OrvlOEZ",
        "colab": {
          "base_uri": "https://localhost:8080/"
        },
        "outputId": "aa94477b-f5ec-4245-828e-361adc6f8cea"
      },
      "outputs": [
        {
          "output_type": "execute_result",
          "data": {
            "text/plain": [
              "array([  1,   9,  25,  49,  81, 121, 169, 225, 289, 361])"
            ]
          },
          "metadata": {},
          "execution_count": 55
        }
      ],
      "source": [
        "# Cuadrado de los elementos del Array\n",
        "np.square(array1)"
      ]
    },
    {
      "cell_type": "code",
      "execution_count": null,
      "metadata": {
        "id": "iR2-kPPTlOEa",
        "colab": {
          "base_uri": "https://localhost:8080/"
        },
        "outputId": "93df322a-159b-4521-cff2-212db5657fcd"
      },
      "outputs": [
        {
          "output_type": "execute_result",
          "data": {
            "text/plain": [
              "array([1.        , 1.73205081, 2.23606798, 2.64575131, 3.        ,\n",
              "       3.31662479, 3.60555128, 3.87298335, 4.12310563, 4.35889894])"
            ]
          },
          "metadata": {},
          "execution_count": 56
        }
      ],
      "source": [
        "# Raiz cuadrada de los elementos del Array\n",
        "np.sqrt(array1)\n"
      ]
    },
    {
      "cell_type": "code",
      "execution_count": null,
      "metadata": {
        "id": "CHBCwcGClOEa",
        "colab": {
          "base_uri": "https://localhost:8080/"
        },
        "outputId": "585fac44-7b9a-43ee-8618-eed67479c31a"
      },
      "outputs": [
        {
          "output_type": "execute_result",
          "data": {
            "text/plain": [
              "array([2.71828183e+00, 2.00855369e+01, 1.48413159e+02, 1.09663316e+03,\n",
              "       8.10308393e+03, 5.98741417e+04, 4.42413392e+05, 3.26901737e+06,\n",
              "       2.41549528e+07, 1.78482301e+08])"
            ]
          },
          "metadata": {},
          "execution_count": 57
        }
      ],
      "source": [
        "# Exponencial de los elementos del Array\n",
        "np.exp(array1)"
      ]
    },
    {
      "cell_type": "code",
      "execution_count": null,
      "metadata": {
        "id": "y8jPmcoklOEa",
        "colab": {
          "base_uri": "https://localhost:8080/"
        },
        "outputId": "99cbe63a-97a5-4e57-f39e-4954cf253550"
      },
      "outputs": [
        {
          "output_type": "execute_result",
          "data": {
            "text/plain": [
              "array([0.        , 1.09861229, 1.60943791, 1.94591015, 2.19722458,\n",
              "       2.39789527, 2.56494936, 2.7080502 , 2.83321334, 2.94443898])"
            ]
          },
          "metadata": {},
          "execution_count": 60
        }
      ],
      "source": [
        "# Log de los elementos del Array\n",
        "np.log(array1)"
      ]
    },
    {
      "cell_type": "code",
      "execution_count": null,
      "metadata": {
        "id": "vLVCoxn5lOEa"
      },
      "outputs": [],
      "source": []
    }
  ],
  "metadata": {
    "kernelspec": {
      "display_name": "Python 3",
      "language": "python",
      "name": "python3"
    },
    "language_info": {
      "codemirror_mode": {
        "name": "ipython",
        "version": 3
      },
      "file_extension": ".py",
      "mimetype": "text/x-python",
      "name": "python",
      "nbconvert_exporter": "python",
      "pygments_lexer": "ipython3",
      "version": "3.7.4"
    },
    "colab": {
      "provenance": []
    }
  },
  "nbformat": 4,
  "nbformat_minor": 0
}